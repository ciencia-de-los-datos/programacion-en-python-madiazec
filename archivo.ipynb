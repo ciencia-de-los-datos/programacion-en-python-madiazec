{
 "cells": [
  {
   "cell_type": "code",
   "execution_count": 36,
   "metadata": {},
   "outputs": [],
   "source": [
    "import csv\n",
    "\n",
    "with open(\"C:\\\\Users\\\\nanad\\\\Documents\\\\GitHub\\\\programacion-en-python-madiazec\\\\data.csv\",\"r\") as file:\n",
    "    data = file.readlines()\n",
    "\n",
    "# Limpieza\n",
    "data = [line.replace(\"\\t\",',') for line in data]\n",
    "data = [line.replace(\"\\n\",'') for line in data]\n",
    "data = [line.split(\",\") for line in data]\n"
   ]
  },
  {
   "cell_type": "code",
   "execution_count": 47,
   "metadata": {},
   "outputs": [
    {
     "name": "stdout",
     "output_type": "stream",
     "text": [
      "214\n"
     ]
    }
   ],
   "source": [
    "suma = 0\n",
    "for i in range(len(data)):\n",
    "    suma = suma + int(data[i][1])\n",
    "print(suma)"
   ]
  },
  {
   "cell_type": "code",
   "execution_count": 43,
   "metadata": {},
   "outputs": [
    {
     "data": {
      "text/plain": [
       "40"
      ]
     },
     "execution_count": 43,
     "metadata": {},
     "output_type": "execute_result"
    }
   ],
   "source": [
    "len(data)"
   ]
  },
  {
   "cell_type": "code",
   "execution_count": null,
   "metadata": {},
   "outputs": [],
   "source": []
  }
 ],
 "metadata": {
  "kernelspec": {
   "display_name": "Python 3.10.7 64-bit (microsoft store)",
   "language": "python",
   "name": "python3"
  },
  "language_info": {
   "codemirror_mode": {
    "name": "ipython",
    "version": 3
   },
   "file_extension": ".py",
   "mimetype": "text/x-python",
   "name": "python",
   "nbconvert_exporter": "python",
   "pygments_lexer": "ipython3",
   "version": "3.10.7"
  },
  "orig_nbformat": 4,
  "vscode": {
   "interpreter": {
    "hash": "38d818ff7c33ea23b57eb3e86ad9be6bdb2dae7c6185b936c0cbc4382009620f"
   }
  }
 },
 "nbformat": 4,
 "nbformat_minor": 2
}
