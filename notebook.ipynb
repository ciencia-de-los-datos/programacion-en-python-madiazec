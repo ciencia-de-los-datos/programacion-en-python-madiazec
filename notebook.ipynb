{
 "cells": [
  {
   "cell_type": "code",
   "execution_count": 1,
   "metadata": {},
   "outputs": [],
   "source": [
    "def organizar_archivo():\n",
    "    with open(\"C:\\\\Users\\\\nanad\\\\Documents\\\\GitHub\\\\programacion-en-python-madiazec\\\\data.csv\",\"r\") as file:\n",
    "        data = file.readlines()\n",
    "\n",
    "    # Limpieza\n",
    "    data = [line.replace(\"\\t\",',') for line in data]\n",
    "    data = [line.replace(\"\\n\",'') for line in data]\n",
    "    data = [line.split(\",\") for line in data]\n",
    "\n",
    "    return data"
   ]
  },
  {
   "cell_type": "code",
   "execution_count": 2,
   "metadata": {},
   "outputs": [],
   "source": [
    "data = organizar_archivo()"
   ]
  },
  {
   "cell_type": "code",
   "execution_count": 5,
   "metadata": {},
   "outputs": [
    {
     "data": {
      "text/plain": [
       "('E',\n",
       " 'A',\n",
       " 'B',\n",
       " 'A',\n",
       " 'C',\n",
       " 'A',\n",
       " 'A',\n",
       " 'B',\n",
       " 'E',\n",
       " 'B',\n",
       " 'C',\n",
       " 'C',\n",
       " 'D',\n",
       " 'E',\n",
       " 'B',\n",
       " 'D',\n",
       " 'E',\n",
       " 'D',\n",
       " 'E',\n",
       " 'E',\n",
       " 'E',\n",
       " 'E',\n",
       " 'D',\n",
       " 'A',\n",
       " 'E',\n",
       " 'E',\n",
       " 'A',\n",
       " 'E',\n",
       " 'A',\n",
       " 'C',\n",
       " 'A',\n",
       " 'D',\n",
       " 'E',\n",
       " 'B',\n",
       " 'B',\n",
       " 'D',\n",
       " 'B',\n",
       " 'C',\n",
       " 'E',\n",
       " 'E')"
      ]
     },
     "execution_count": 5,
     "metadata": {},
     "output_type": "execute_result"
    }
   ],
   "source": [
    "lista = ()\n",
    "for index in range(len(data)):\n",
    "    lista = lista + tuple(data[index][0])\n",
    "\n",
    "lista"
   ]
  },
  {
   "cell_type": "code",
   "execution_count": 6,
   "metadata": {},
   "outputs": [
    {
     "data": {
      "text/plain": [
       "['A', 'B', 'C', 'D', 'E']"
      ]
     },
     "execution_count": 6,
     "metadata": {},
     "output_type": "execute_result"
    }
   ],
   "source": [
    "unicos = []\n",
    "temp = set()\n",
    "for i in lista:\n",
    "    for j in i:\n",
    "        if not j in temp:\n",
    "            temp.add(j)\n",
    "            unicos.append(j)\n",
    "unicos.sort()\n",
    "unicos"
   ]
  },
  {
   "cell_type": "code",
   "execution_count": 13,
   "metadata": {},
   "outputs": [
    {
     "data": {
      "text/plain": [
       "('E', 0)"
      ]
     },
     "execution_count": 13,
     "metadata": {},
     "output_type": "execute_result"
    }
   ],
   "source": [
    "ini = [0, 0, 0, 0, 0]\n",
    "\n",
    "for indice, t in zip(unicos,ini):\n",
    "    lista = t[0],t[1]\n",
    "lista"
   ]
  },
  {
   "cell_type": "code",
   "execution_count": 14,
   "metadata": {},
   "outputs": [
    {
     "data": {
      "text/plain": [
       "<zip at 0x169bede2840>"
      ]
     },
     "execution_count": 14,
     "metadata": {},
     "output_type": "execute_result"
    }
   ],
   "source": [
    "zip(unicos,ini)"
   ]
  },
  {
   "cell_type": "code",
   "execution_count": 50,
   "metadata": {},
   "outputs": [
    {
     "data": {
      "text/plain": [
       "[8, 7, 5, 6, 14]"
      ]
     },
     "execution_count": 50,
     "metadata": {},
     "output_type": "execute_result"
    }
   ],
   "source": [
    "sum = []\n",
    "for i in unicos:\n",
    "    sum.append(lista.count(i))\n",
    "sum"
   ]
  },
  {
   "cell_type": "code",
   "execution_count": 55,
   "metadata": {},
   "outputs": [
    {
     "data": {
      "text/plain": [
       "[['A', 8], ['B', 7], ['C', 5], ['D', 6], ['E', 14]]"
      ]
     },
     "execution_count": 55,
     "metadata": {},
     "output_type": "execute_result"
    }
   ],
   "source": [
    "result = []\n",
    "for i in range(len(unicos)):\n",
    "    result.append([unicos[i],sum[i]])\n",
    "result"
   ]
  },
  {
   "cell_type": "code",
   "execution_count": 65,
   "metadata": {},
   "outputs": [
    {
     "data": {
      "text/plain": [
       "[('A', 8), ('B', 7), ('C', 5), ('D', 6), ('E', 14)]"
      ]
     },
     "execution_count": 65,
     "metadata": {},
     "output_type": "execute_result"
    }
   ],
   "source": [
    "\n",
    "for i in range(len(result)):\n",
    "    result[i] = tuple(result[i])\n",
    "\n",
    "result"
   ]
  },
  {
   "cell_type": "code",
   "execution_count": 3,
   "metadata": {},
   "outputs": [
    {
     "data": {
      "text/plain": [
       "[['E',\n",
       "  '1',\n",
       "  '1999-02-28',\n",
       "  'b',\n",
       "  'g',\n",
       "  'f',\n",
       "  'jjj:12',\n",
       "  'bbb:3',\n",
       "  'ddd:9',\n",
       "  'ggg:8',\n",
       "  'hhh:2'],\n",
       " ['A', '2', '1999-10-28', 'a', 'f', 'c', 'ccc:2', 'ddd:0', 'aaa:3', 'hhh:9'],\n",
       " ['B',\n",
       "  '5',\n",
       "  '1998-05-02',\n",
       "  'f',\n",
       "  'e',\n",
       "  'a',\n",
       "  'c',\n",
       "  'ddd:2',\n",
       "  'ggg:5',\n",
       "  'ccc:6',\n",
       "  'jjj:12'],\n",
       " ['A', '3', '1999-08-28', 'a', 'b', 'hhh:9', 'iii:5', 'eee:7', 'bbb:1'],\n",
       " ['C',\n",
       "  '6',\n",
       "  '1999-12-01',\n",
       "  'f',\n",
       "  'g',\n",
       "  'd',\n",
       "  'a',\n",
       "  'iii:6',\n",
       "  'ddd:5',\n",
       "  'eee:4',\n",
       "  'jjj:12'],\n",
       " ['A',\n",
       "  '7',\n",
       "  '1998-07-28',\n",
       "  'c',\n",
       "  'd',\n",
       "  'bbb:2',\n",
       "  'hhh:0',\n",
       "  'ccc:4',\n",
       "  'fff:1',\n",
       "  'aaa:7'],\n",
       " ['A',\n",
       "  '9',\n",
       "  '1997-02-28',\n",
       "  'g',\n",
       "  'd',\n",
       "  'a',\n",
       "  'aaa:5',\n",
       "  'fff:8',\n",
       "  'ddd:2',\n",
       "  'iii:0',\n",
       "  'jjj:7',\n",
       "  'ccc:1'],\n",
       " ['B', '1', '1999-05-10', 'b', 'a', 'fff:3', 'hhh:1', 'ddd:2'],\n",
       " ['E',\n",
       "  '2',\n",
       "  '1997-04-12',\n",
       "  'd',\n",
       "  'e',\n",
       "  'a',\n",
       "  'f',\n",
       "  'eee:4',\n",
       "  'ccc:5',\n",
       "  'iii:9',\n",
       "  'fff:7',\n",
       "  'ggg:6',\n",
       "  'bbb:2'],\n",
       " ['B',\n",
       "  '3',\n",
       "  '1999-11-23',\n",
       "  'd',\n",
       "  'b',\n",
       "  'g',\n",
       "  'f',\n",
       "  'bbb:7',\n",
       "  'jjj:9',\n",
       "  'fff:5',\n",
       "  'iii:4',\n",
       "  'ggg:3',\n",
       "  'eee:3'],\n",
       " ['C',\n",
       "  '7',\n",
       "  '1998-01-17',\n",
       "  'd',\n",
       "  'c',\n",
       "  'f',\n",
       "  'b',\n",
       "  'hhh:6',\n",
       "  'eee:4',\n",
       "  'iii:0',\n",
       "  'fff:2',\n",
       "  'jjj:12'],\n",
       " ['C', '5', '1998-12-28', 'd', 'e', 'a', 'c', 'bbb:7', 'iii:6', 'ggg:9'],\n",
       " ['D',\n",
       "  '3',\n",
       "  '1999-10-15',\n",
       "  'g',\n",
       "  'e',\n",
       "  'f',\n",
       "  'b',\n",
       "  'bbb:9',\n",
       "  'aaa:3',\n",
       "  'ccc:6',\n",
       "  'fff:4',\n",
       "  'eee:2'],\n",
       " ['E', '8', '1998-11-01', 'c', 'f', 'aaa:8', 'ddd:5', 'jjj:12'],\n",
       " ['B',\n",
       "  '9',\n",
       "  '1999-08-12',\n",
       "  'd',\n",
       "  'b',\n",
       "  'ccc:7',\n",
       "  'jjj:6',\n",
       "  'fff:7',\n",
       "  'ddd:3',\n",
       "  'aaa:2'],\n",
       " ['D', '8', '1997-12-01', 'f', 'e', 'ccc:8', 'eee:6', 'bbb:9', 'ddd:3'],\n",
       " ['E',\n",
       "  '3',\n",
       "  '1997-07-28',\n",
       "  'e',\n",
       "  'b',\n",
       "  'f',\n",
       "  'bbb:6',\n",
       "  'iii:3',\n",
       "  'hhh:5',\n",
       "  'fff:4',\n",
       "  'ggg:9',\n",
       "  'ddd:2'],\n",
       " ['D', '5', '1998-08-12', 'g', 'a', 'hhh:4', 'jjj:5', 'ccc:9'],\n",
       " ['E', '8', '1999-08-24', 'e', 'c', 'f', 'a', 'ccc:1', 'iii:6', 'fff:9'],\n",
       " ['E', '9', '1998-01-23', 'e', 'a', 'bbb:9', 'aaa:3', 'fff:1'],\n",
       " ['E', '7', '1999-06-22', 'e', 'f', 'ddd:9', 'iii:2', 'aaa:4'],\n",
       " ['E', '3', '1999-04-24', 'c', 'b', 'g', 'ccc:5', 'fff:8', 'iii:7'],\n",
       " ['D', '5', '1999-06-25', 'c', 'f', 'a', 'eee:3', 'jjj:17', 'ddd:7'],\n",
       " ['A',\n",
       "  '9',\n",
       "  '1999-08-25',\n",
       "  'f',\n",
       "  'a',\n",
       "  'd',\n",
       "  'jjj:12',\n",
       "  'ggg:7',\n",
       "  'ccc:7',\n",
       "  'ddd:9',\n",
       "  'bbb:3'],\n",
       " ['E',\n",
       "  '4',\n",
       "  '1997-07-26',\n",
       "  'c',\n",
       "  'd',\n",
       "  'jjj:6',\n",
       "  'ccc:4',\n",
       "  'aaa:1',\n",
       "  'hhh:9',\n",
       "  'iii:7',\n",
       "  'ggg:8'],\n",
       " ['E',\n",
       "  '6',\n",
       "  '1997-09-24',\n",
       "  'e',\n",
       "  'd',\n",
       "  'c',\n",
       "  'fff:3',\n",
       "  'eee:6',\n",
       "  'iii:4',\n",
       "  'bbb:7',\n",
       "  'ddd:4',\n",
       "  'ccc:1'],\n",
       " ['A', '8', '1997-09-28', 'a', 'e', 'f', 'fff:0', 'ddd:5', 'ccc:4'],\n",
       " ['E',\n",
       "  '5',\n",
       "  '1999-06-22',\n",
       "  'c',\n",
       "  'a',\n",
       "  'g',\n",
       "  'ggg:6',\n",
       "  'hhh:3',\n",
       "  'ddd:9',\n",
       "  'ccc:10',\n",
       "  'jjj:7'],\n",
       " ['A',\n",
       "  '6',\n",
       "  '1999-07-29',\n",
       "  'f',\n",
       "  'e',\n",
       "  'hhh:6',\n",
       "  'jjj:13',\n",
       "  'eee:5',\n",
       "  'iii:7',\n",
       "  'ccc:3'],\n",
       " ['C',\n",
       "  '0',\n",
       "  '1999-08-22',\n",
       "  'f',\n",
       "  'c',\n",
       "  'a',\n",
       "  'g',\n",
       "  'eee:1',\n",
       "  'fff:4',\n",
       "  'aaa:2',\n",
       "  'ccc:7',\n",
       "  'ggg:10',\n",
       "  'ddd:6'],\n",
       " ['A',\n",
       "  '9',\n",
       "  '1998-04-26',\n",
       "  'b',\n",
       "  'f',\n",
       "  'ccc:6',\n",
       "  'aaa:9',\n",
       "  'eee:5',\n",
       "  'ddd:0',\n",
       "  'bbb:3'],\n",
       " ['D',\n",
       "  '3',\n",
       "  '1998-02-24',\n",
       "  'b',\n",
       "  'f',\n",
       "  'bbb:7',\n",
       "  'hhh:1',\n",
       "  'aaa:6',\n",
       "  'iii:4',\n",
       "  'fff:9',\n",
       "  'ddd:5'],\n",
       " ['E', '5', '1999-03-24', 'a', 'c', 'fff:3', 'ccc:1', 'ggg:3', 'eee:5'],\n",
       " ['B',\n",
       "  '4',\n",
       "  '1998-03-23',\n",
       "  'b',\n",
       "  'f',\n",
       "  'c',\n",
       "  'iii:7',\n",
       "  'ggg:3',\n",
       "  'ddd:0',\n",
       "  'jjj:8',\n",
       "  'hhh:5',\n",
       "  'ccc:1'],\n",
       " ['B',\n",
       "  '6',\n",
       "  '1999-04-21',\n",
       "  'f',\n",
       "  'a',\n",
       "  'e',\n",
       "  'hhh:6',\n",
       "  'ccc:3',\n",
       "  'jjj:9',\n",
       "  'bbb:8',\n",
       "  'ddd:7'],\n",
       " ['D', '7', '1999-02-29', 'a', 'f', 'aaa:1', 'fff:5', 'ddd:3'],\n",
       " ['B',\n",
       "  '8',\n",
       "  '1997-05-21',\n",
       "  'c',\n",
       "  'a',\n",
       "  'ddd:5',\n",
       "  'jjj:17',\n",
       "  'iii:7',\n",
       "  'ccc:10',\n",
       "  'bbb:4'],\n",
       " ['C', '9', '1997-07-22', 'c', 'a', 'e', 'f', 'eee:3', 'fff:2', 'hhh:6'],\n",
       " ['E', '1', '1999-09-28', 'e', 'd', 'fff:9', 'iii:2', 'eee:5'],\n",
       " ['E', '5', '1998-01-26', 'f', 'a', 'd', 'hhh:8', 'ggg:3', 'jjj:5']]"
      ]
     },
     "execution_count": 3,
     "metadata": {},
     "output_type": "execute_result"
    }
   ],
   "source": [
    "\n",
    "for i in range(len(unicos)):\n",
    "    letra = data[i][1]\n",
    "    if letra == i:\n",
    "        sum = sum"
   ]
  },
  {
   "cell_type": "code",
   "execution_count": null,
   "metadata": {},
   "outputs": [],
   "source": []
  }
 ],
 "metadata": {
  "kernelspec": {
   "display_name": "Python 3.10.7 64-bit (microsoft store)",
   "language": "python",
   "name": "python3"
  },
  "language_info": {
   "codemirror_mode": {
    "name": "ipython",
    "version": 3
   },
   "file_extension": ".py",
   "mimetype": "text/x-python",
   "name": "python",
   "nbconvert_exporter": "python",
   "pygments_lexer": "ipython3",
   "version": "3.10.7"
  },
  "orig_nbformat": 4,
  "vscode": {
   "interpreter": {
    "hash": "38d818ff7c33ea23b57eb3e86ad9be6bdb2dae7c6185b936c0cbc4382009620f"
   }
  }
 },
 "nbformat": 4,
 "nbformat_minor": 2
}
