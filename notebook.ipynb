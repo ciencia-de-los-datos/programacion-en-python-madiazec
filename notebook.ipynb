{
 "cells": [
  {
   "cell_type": "code",
   "execution_count": 1,
   "metadata": {},
   "outputs": [],
   "source": [
    "def organizar_archivo():\n",
    "    with open(\"C:\\\\Users\\\\nanad\\\\Documents\\\\GitHub\\\\programacion-en-python-madiazec\\\\data.csv\",\"r\") as file:\n",
    "        data = file.readlines()\n",
    "\n",
    "    # Limpieza\n",
    "    data = [line.replace(\"\\t\",',') for line in data]\n",
    "    data = [line.replace(\"\\n\",'') for line in data]\n",
    "    data = [line.split(\",\") for line in data]\n",
    "\n",
    "    return data"
   ]
  },
  {
   "cell_type": "code",
   "execution_count": 2,
   "metadata": {},
   "outputs": [],
   "source": [
    "data = organizar_archivo()"
   ]
  },
  {
   "cell_type": "markdown",
   "metadata": {},
   "source": [
    "# 2 y 3"
   ]
  },
  {
   "cell_type": "code",
   "execution_count": 26,
   "metadata": {},
   "outputs": [
    {
     "data": {
      "text/plain": [
       "('E',\n",
       " 'A',\n",
       " 'B',\n",
       " 'A',\n",
       " 'C',\n",
       " 'A',\n",
       " 'A',\n",
       " 'B',\n",
       " 'E',\n",
       " 'B',\n",
       " 'C',\n",
       " 'C',\n",
       " 'D',\n",
       " 'E',\n",
       " 'B',\n",
       " 'D',\n",
       " 'E',\n",
       " 'D',\n",
       " 'E',\n",
       " 'E',\n",
       " 'E',\n",
       " 'E',\n",
       " 'D',\n",
       " 'A',\n",
       " 'E',\n",
       " 'E',\n",
       " 'A',\n",
       " 'E',\n",
       " 'A',\n",
       " 'C',\n",
       " 'A',\n",
       " 'D',\n",
       " 'E',\n",
       " 'B',\n",
       " 'B',\n",
       " 'D',\n",
       " 'B',\n",
       " 'C',\n",
       " 'E',\n",
       " 'E')"
      ]
     },
     "execution_count": 26,
     "metadata": {},
     "output_type": "execute_result"
    }
   ],
   "source": [
    "lista = ()\n",
    "for index in range(len(data)):\n",
    "    lista = lista + tuple(data[index][0])\n",
    "\n",
    "lista"
   ]
  },
  {
   "cell_type": "code",
   "execution_count": 27,
   "metadata": {},
   "outputs": [
    {
     "data": {
      "text/plain": [
       "['A', 'B', 'C', 'D', 'E']"
      ]
     },
     "execution_count": 27,
     "metadata": {},
     "output_type": "execute_result"
    }
   ],
   "source": [
    "unicos = []\n",
    "temp = set()\n",
    "for i in lista:\n",
    "    for j in i:\n",
    "        if not j in temp:\n",
    "            temp.add(j)\n",
    "            unicos.append(j)\n",
    "unicos.sort()\n",
    "unicos"
   ]
  },
  {
   "cell_type": "code",
   "execution_count": 51,
   "metadata": {},
   "outputs": [],
   "source": [
    "def fun(letra,num,ini):\n",
    "    if letra == \"A\":\n",
    "        indice = 0\n",
    "    elif letra == \"B\":\n",
    "        indice = 1\n",
    "    elif letra == \"C\":\n",
    "        indice = 2\n",
    "    elif letra == \"D\":\n",
    "        indice = 3\n",
    "    else:\n",
    "        indice = 4\n",
    "    \n",
    "    ini[indice] += num\n",
    "\n",
    "    return ini"
   ]
  },
  {
   "cell_type": "code",
   "execution_count": 58,
   "metadata": {},
   "outputs": [
    {
     "data": {
      "text/plain": [
       "[('A', 53), ('B', 36), ('C', 27), ('D', 31), ('E', 67)]"
      ]
     },
     "execution_count": 58,
     "metadata": {},
     "output_type": "execute_result"
    }
   ],
   "source": [
    "ini = [0, 0, 0, 0, 0]\n",
    "for i in range(len(data)):\n",
    "    num = int(data[i][1])\n",
    "    letra = str(data[i][0])\n",
    "    fun(letra,num,ini)\n",
    "\n",
    "listatuplas = list(zip(unicos,ini))\n",
    "listatuplas"
   ]
  },
  {
   "cell_type": "markdown",
   "metadata": {},
   "source": [
    "# 4"
   ]
  },
  {
   "cell_type": "code",
   "execution_count": 4,
   "metadata": {},
   "outputs": [
    {
     "data": {
      "text/plain": [
       "[('01', 3),\n",
       " ('02', 4),\n",
       " ('03', 2),\n",
       " ('04', 4),\n",
       " ('05', 3),\n",
       " ('06', 3),\n",
       " ('07', 5),\n",
       " ('08', 6),\n",
       " ('09', 3),\n",
       " ('10', 2),\n",
       " ('11', 2),\n",
       " ('12', 3)]"
      ]
     },
     "execution_count": 4,
     "metadata": {},
     "output_type": "execute_result"
    }
   ],
   "source": [
    "list_dates = [line[2].split(\"-\") for line in data]\n",
    "list_month = [line[1]for line in list_dates]\n",
    "months = sorted(set([line for line in list_month]))\n",
    "tup = [(x,list_month.count(x))for x in months]      \n",
    "tup"
   ]
  },
  {
   "cell_type": "markdown",
   "metadata": {},
   "source": [
    "## 5"
   ]
  },
  {
   "cell_type": "markdown",
   "metadata": {},
   "source": []
  }
 ],
 "metadata": {
  "kernelspec": {
   "display_name": "Python 3.10.7 64-bit (microsoft store)",
   "language": "python",
   "name": "python3"
  },
  "language_info": {
   "codemirror_mode": {
    "name": "ipython",
    "version": 3
   },
   "file_extension": ".py",
   "mimetype": "text/x-python",
   "name": "python",
   "nbconvert_exporter": "python",
   "pygments_lexer": "ipython3",
   "version": "3.10.7"
  },
  "orig_nbformat": 4,
  "vscode": {
   "interpreter": {
    "hash": "38d818ff7c33ea23b57eb3e86ad9be6bdb2dae7c6185b936c0cbc4382009620f"
   }
  }
 },
 "nbformat": 4,
 "nbformat_minor": 2
}
