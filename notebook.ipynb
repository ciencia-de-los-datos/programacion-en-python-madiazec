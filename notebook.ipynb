{
 "cells": [
  {
   "cell_type": "code",
   "execution_count": 26,
   "metadata": {},
   "outputs": [],
   "source": [
    "def organizar_archivo():\n",
    "    with open(\"C:\\\\Users\\\\nanad\\\\Documents\\\\GitHub\\\\programacion-en-python-madiazec\\\\data.csv\",\"r\") as file:\n",
    "        data = file.readlines()\n",
    "\n",
    "    # Limpieza\n",
    "    data = [line.replace(\"\\t\",',') for line in data]\n",
    "    data = [line.replace(\"\\n\",'') for line in data]\n",
    "    data = [line.split(\",\") for line in data]\n",
    "\n",
    "    return data"
   ]
  },
  {
   "cell_type": "code",
   "execution_count": 39,
   "metadata": {},
   "outputs": [],
   "source": [
    "data = organizar_archivo()"
   ]
  },
  {
   "cell_type": "code",
   "execution_count": 28,
   "metadata": {},
   "outputs": [
    {
     "data": {
      "text/plain": [
       "[['E',\n",
       "  '1',\n",
       "  '1999-02-28',\n",
       "  'b',\n",
       "  'g',\n",
       "  'f',\n",
       "  'jjj:12',\n",
       "  'bbb:3',\n",
       "  'ddd:9',\n",
       "  'ggg:8',\n",
       "  'hhh:2'],\n",
       " ['A', '2', '1999-10-28', 'a', 'f', 'c', 'ccc:2', 'ddd:0', 'aaa:3', 'hhh:9'],\n",
       " ['B',\n",
       "  '5',\n",
       "  '1998-05-02',\n",
       "  'f',\n",
       "  'e',\n",
       "  'a',\n",
       "  'c',\n",
       "  'ddd:2',\n",
       "  'ggg:5',\n",
       "  'ccc:6',\n",
       "  'jjj:12'],\n",
       " ['A', '3', '1999-08-28', 'a', 'b', 'hhh:9', 'iii:5', 'eee:7', 'bbb:1'],\n",
       " ['C',\n",
       "  '6',\n",
       "  '1999-12-01',\n",
       "  'f',\n",
       "  'g',\n",
       "  'd',\n",
       "  'a',\n",
       "  'iii:6',\n",
       "  'ddd:5',\n",
       "  'eee:4',\n",
       "  'jjj:12'],\n",
       " ['A',\n",
       "  '7',\n",
       "  '1998-07-28',\n",
       "  'c',\n",
       "  'd',\n",
       "  'bbb:2',\n",
       "  'hhh:0',\n",
       "  'ccc:4',\n",
       "  'fff:1',\n",
       "  'aaa:7'],\n",
       " ['A',\n",
       "  '9',\n",
       "  '1997-02-28',\n",
       "  'g',\n",
       "  'd',\n",
       "  'a',\n",
       "  'aaa:5',\n",
       "  'fff:8',\n",
       "  'ddd:2',\n",
       "  'iii:0',\n",
       "  'jjj:7',\n",
       "  'ccc:1'],\n",
       " ['B', '1', '1999-05-10', 'b', 'a', 'fff:3', 'hhh:1', 'ddd:2'],\n",
       " ['E',\n",
       "  '2',\n",
       "  '1997-04-12',\n",
       "  'd',\n",
       "  'e',\n",
       "  'a',\n",
       "  'f',\n",
       "  'eee:4',\n",
       "  'ccc:5',\n",
       "  'iii:9',\n",
       "  'fff:7',\n",
       "  'ggg:6',\n",
       "  'bbb:2'],\n",
       " ['B',\n",
       "  '3',\n",
       "  '1999-11-23',\n",
       "  'd',\n",
       "  'b',\n",
       "  'g',\n",
       "  'f',\n",
       "  'bbb:7',\n",
       "  'jjj:9',\n",
       "  'fff:5',\n",
       "  'iii:4',\n",
       "  'ggg:3',\n",
       "  'eee:3'],\n",
       " ['C',\n",
       "  '7',\n",
       "  '1998-01-17',\n",
       "  'd',\n",
       "  'c',\n",
       "  'f',\n",
       "  'b',\n",
       "  'hhh:6',\n",
       "  'eee:4',\n",
       "  'iii:0',\n",
       "  'fff:2',\n",
       "  'jjj:12'],\n",
       " ['C', '5', '1998-12-28', 'd', 'e', 'a', 'c', 'bbb:7', 'iii:6', 'ggg:9'],\n",
       " ['D',\n",
       "  '3',\n",
       "  '1999-10-15',\n",
       "  'g',\n",
       "  'e',\n",
       "  'f',\n",
       "  'b',\n",
       "  'bbb:9',\n",
       "  'aaa:3',\n",
       "  'ccc:6',\n",
       "  'fff:4',\n",
       "  'eee:2'],\n",
       " ['E', '8', '1998-11-01', 'c', 'f', 'aaa:8', 'ddd:5', 'jjj:12'],\n",
       " ['B',\n",
       "  '9',\n",
       "  '1999-08-12',\n",
       "  'd',\n",
       "  'b',\n",
       "  'ccc:7',\n",
       "  'jjj:6',\n",
       "  'fff:7',\n",
       "  'ddd:3',\n",
       "  'aaa:2'],\n",
       " ['D', '8', '1997-12-01', 'f', 'e', 'ccc:8', 'eee:6', 'bbb:9', 'ddd:3'],\n",
       " ['E',\n",
       "  '3',\n",
       "  '1997-07-28',\n",
       "  'e',\n",
       "  'b',\n",
       "  'f',\n",
       "  'bbb:6',\n",
       "  'iii:3',\n",
       "  'hhh:5',\n",
       "  'fff:4',\n",
       "  'ggg:9',\n",
       "  'ddd:2'],\n",
       " ['D', '5', '1998-08-12', 'g', 'a', 'hhh:4', 'jjj:5', 'ccc:9'],\n",
       " ['E', '8', '1999-08-24', 'e', 'c', 'f', 'a', 'ccc:1', 'iii:6', 'fff:9'],\n",
       " ['E', '9', '1998-01-23', 'e', 'a', 'bbb:9', 'aaa:3', 'fff:1'],\n",
       " ['E', '7', '1999-06-22', 'e', 'f', 'ddd:9', 'iii:2', 'aaa:4'],\n",
       " ['E', '3', '1999-04-24', 'c', 'b', 'g', 'ccc:5', 'fff:8', 'iii:7'],\n",
       " ['D', '5', '1999-06-25', 'c', 'f', 'a', 'eee:3', 'jjj:17', 'ddd:7'],\n",
       " ['A',\n",
       "  '9',\n",
       "  '1999-08-25',\n",
       "  'f',\n",
       "  'a',\n",
       "  'd',\n",
       "  'jjj:12',\n",
       "  'ggg:7',\n",
       "  'ccc:7',\n",
       "  'ddd:9',\n",
       "  'bbb:3'],\n",
       " ['E',\n",
       "  '4',\n",
       "  '1997-07-26',\n",
       "  'c',\n",
       "  'd',\n",
       "  'jjj:6',\n",
       "  'ccc:4',\n",
       "  'aaa:1',\n",
       "  'hhh:9',\n",
       "  'iii:7',\n",
       "  'ggg:8'],\n",
       " ['E',\n",
       "  '6',\n",
       "  '1997-09-24',\n",
       "  'e',\n",
       "  'd',\n",
       "  'c',\n",
       "  'fff:3',\n",
       "  'eee:6',\n",
       "  'iii:4',\n",
       "  'bbb:7',\n",
       "  'ddd:4',\n",
       "  'ccc:1'],\n",
       " ['A', '8', '1997-09-28', 'a', 'e', 'f', 'fff:0', 'ddd:5', 'ccc:4'],\n",
       " ['E',\n",
       "  '5',\n",
       "  '1999-06-22',\n",
       "  'c',\n",
       "  'a',\n",
       "  'g',\n",
       "  'ggg:6',\n",
       "  'hhh:3',\n",
       "  'ddd:9',\n",
       "  'ccc:10',\n",
       "  'jjj:7'],\n",
       " ['A',\n",
       "  '6',\n",
       "  '1999-07-29',\n",
       "  'f',\n",
       "  'e',\n",
       "  'hhh:6',\n",
       "  'jjj:13',\n",
       "  'eee:5',\n",
       "  'iii:7',\n",
       "  'ccc:3'],\n",
       " ['C',\n",
       "  '0',\n",
       "  '1999-08-22',\n",
       "  'f',\n",
       "  'c',\n",
       "  'a',\n",
       "  'g',\n",
       "  'eee:1',\n",
       "  'fff:4',\n",
       "  'aaa:2',\n",
       "  'ccc:7',\n",
       "  'ggg:10',\n",
       "  'ddd:6'],\n",
       " ['A',\n",
       "  '9',\n",
       "  '1998-04-26',\n",
       "  'b',\n",
       "  'f',\n",
       "  'ccc:6',\n",
       "  'aaa:9',\n",
       "  'eee:5',\n",
       "  'ddd:0',\n",
       "  'bbb:3'],\n",
       " ['D',\n",
       "  '3',\n",
       "  '1998-02-24',\n",
       "  'b',\n",
       "  'f',\n",
       "  'bbb:7',\n",
       "  'hhh:1',\n",
       "  'aaa:6',\n",
       "  'iii:4',\n",
       "  'fff:9',\n",
       "  'ddd:5'],\n",
       " ['E', '5', '1999-03-24', 'a', 'c', 'fff:3', 'ccc:1', 'ggg:3', 'eee:5'],\n",
       " ['B',\n",
       "  '4',\n",
       "  '1998-03-23',\n",
       "  'b',\n",
       "  'f',\n",
       "  'c',\n",
       "  'iii:7',\n",
       "  'ggg:3',\n",
       "  'ddd:0',\n",
       "  'jjj:8',\n",
       "  'hhh:5',\n",
       "  'ccc:1'],\n",
       " ['B',\n",
       "  '6',\n",
       "  '1999-04-21',\n",
       "  'f',\n",
       "  'a',\n",
       "  'e',\n",
       "  'hhh:6',\n",
       "  'ccc:3',\n",
       "  'jjj:9',\n",
       "  'bbb:8',\n",
       "  'ddd:7'],\n",
       " ['D', '7', '1999-02-29', 'a', 'f', 'aaa:1', 'fff:5', 'ddd:3'],\n",
       " ['B',\n",
       "  '8',\n",
       "  '1997-05-21',\n",
       "  'c',\n",
       "  'a',\n",
       "  'ddd:5',\n",
       "  'jjj:17',\n",
       "  'iii:7',\n",
       "  'ccc:10',\n",
       "  'bbb:4'],\n",
       " ['C', '9', '1997-07-22', 'c', 'a', 'e', 'f', 'eee:3', 'fff:2', 'hhh:6'],\n",
       " ['E', '1', '1999-09-28', 'e', 'd', 'fff:9', 'iii:2', 'eee:5'],\n",
       " ['E', '5', '1998-01-26', 'f', 'a', 'd', 'hhh:8', 'ggg:3', 'jjj:5']]"
      ]
     },
     "execution_count": 28,
     "metadata": {},
     "output_type": "execute_result"
    }
   ],
   "source": [
    "data"
   ]
  },
  {
   "cell_type": "markdown",
   "metadata": {},
   "source": [
    "# 2 y 3"
   ]
  },
  {
   "cell_type": "code",
   "execution_count": 26,
   "metadata": {},
   "outputs": [
    {
     "data": {
      "text/plain": [
       "('E',\n",
       " 'A',\n",
       " 'B',\n",
       " 'A',\n",
       " 'C',\n",
       " 'A',\n",
       " 'A',\n",
       " 'B',\n",
       " 'E',\n",
       " 'B',\n",
       " 'C',\n",
       " 'C',\n",
       " 'D',\n",
       " 'E',\n",
       " 'B',\n",
       " 'D',\n",
       " 'E',\n",
       " 'D',\n",
       " 'E',\n",
       " 'E',\n",
       " 'E',\n",
       " 'E',\n",
       " 'D',\n",
       " 'A',\n",
       " 'E',\n",
       " 'E',\n",
       " 'A',\n",
       " 'E',\n",
       " 'A',\n",
       " 'C',\n",
       " 'A',\n",
       " 'D',\n",
       " 'E',\n",
       " 'B',\n",
       " 'B',\n",
       " 'D',\n",
       " 'B',\n",
       " 'C',\n",
       " 'E',\n",
       " 'E')"
      ]
     },
     "execution_count": 26,
     "metadata": {},
     "output_type": "execute_result"
    }
   ],
   "source": [
    "lista = ()\n",
    "for index in range(len(data)):\n",
    "    lista = lista + tuple(data[index][0])\n",
    "\n",
    "lista"
   ]
  },
  {
   "cell_type": "code",
   "execution_count": 27,
   "metadata": {},
   "outputs": [
    {
     "data": {
      "text/plain": [
       "['A', 'B', 'C', 'D', 'E']"
      ]
     },
     "execution_count": 27,
     "metadata": {},
     "output_type": "execute_result"
    }
   ],
   "source": [
    "unicos = []\n",
    "temp = set()\n",
    "for i in lista:\n",
    "    for j in i:\n",
    "        if not j in temp:\n",
    "            temp.add(j)\n",
    "            unicos.append(j)\n",
    "unicos.sort()\n",
    "unicos"
   ]
  },
  {
   "cell_type": "code",
   "execution_count": 51,
   "metadata": {},
   "outputs": [],
   "source": [
    "def fun(letra,num,ini):\n",
    "    if letra == \"A\":\n",
    "        indice = 0\n",
    "    elif letra == \"B\":\n",
    "        indice = 1\n",
    "    elif letra == \"C\":\n",
    "        indice = 2\n",
    "    elif letra == \"D\":\n",
    "        indice = 3\n",
    "    else:\n",
    "        indice = 4\n",
    "    \n",
    "    ini[indice] += num\n",
    "\n",
    "    return ini"
   ]
  },
  {
   "cell_type": "code",
   "execution_count": 58,
   "metadata": {},
   "outputs": [
    {
     "data": {
      "text/plain": [
       "[('A', 53), ('B', 36), ('C', 27), ('D', 31), ('E', 67)]"
      ]
     },
     "execution_count": 58,
     "metadata": {},
     "output_type": "execute_result"
    }
   ],
   "source": [
    "ini = [0, 0, 0, 0, 0]\n",
    "for i in range(len(data)):\n",
    "    num = int(data[i][1])\n",
    "    letra = str(data[i][0])\n",
    "    fun(letra,num,ini)\n",
    "\n",
    "listatuplas = list(zip(unicos,ini))\n",
    "listatuplas"
   ]
  },
  {
   "cell_type": "markdown",
   "metadata": {},
   "source": [
    "# 4"
   ]
  },
  {
   "cell_type": "code",
   "execution_count": 4,
   "metadata": {},
   "outputs": [
    {
     "data": {
      "text/plain": [
       "[('01', 3),\n",
       " ('02', 4),\n",
       " ('03', 2),\n",
       " ('04', 4),\n",
       " ('05', 3),\n",
       " ('06', 3),\n",
       " ('07', 5),\n",
       " ('08', 6),\n",
       " ('09', 3),\n",
       " ('10', 2),\n",
       " ('11', 2),\n",
       " ('12', 3)]"
      ]
     },
     "execution_count": 4,
     "metadata": {},
     "output_type": "execute_result"
    }
   ],
   "source": [
    "list_dates = [line[2].split(\"-\") for line in data]\n",
    "list_month = [line[1]for line in list_dates]\n",
    "months = sorted(set([line for line in list_month]))\n",
    "tup = [(x,list_month.count(x))for x in months]      \n",
    "tup"
   ]
  },
  {
   "cell_type": "markdown",
   "metadata": {},
   "source": [
    "# 5"
   ]
  },
  {
   "cell_type": "code",
   "execution_count": 45,
   "metadata": {},
   "outputs": [],
   "source": [
    "def hallar_min_max(lista_letras,lista_datos,data,org):\n",
    "    val = []\n",
    "    tup = []\n",
    "    for i in lista_letras:\n",
    "        for j in lista_datos:\n",
    "            if j[0] == i:\n",
    "                val.append(j[1])\n",
    "        if org == 'max':\n",
    "            tup.append((i,max(val),min(val)))\n",
    "        else:\n",
    "            tup.append((i,min(val),max(val)))\n",
    "        val.clear()\n",
    "    return tup"
   ]
  },
  {
   "cell_type": "code",
   "execution_count": 46,
   "metadata": {},
   "outputs": [
    {
     "data": {
      "text/plain": [
       "[('A', 9, 2), ('B', 9, 1), ('C', 9, 0), ('D', 8, 3), ('E', 9, 1)]"
      ]
     },
     "execution_count": 46,
     "metadata": {},
     "output_type": "execute_result"
    }
   ],
   "source": [
    "lista_letras = sorted(set([lines[0] for lines in data]))\n",
    "lista_datos = [(line[0], int(line[1])) for line in data]\n",
    "val = []\n",
    "tup = []\n",
    "\n",
    "tup = hallar_min_max(lista_letras,lista_datos,data,'max')\n",
    "tup"
   ]
  },
  {
   "cell_type": "markdown",
   "metadata": {},
   "source": [
    "# 6"
   ]
  },
  {
   "cell_type": "code",
   "execution_count": 36,
   "metadata": {},
   "outputs": [],
   "source": [
    "def organizar_dicc():\n",
    "    with open(\"C:\\\\Users\\\\nanad\\\\Documents\\\\GitHub\\\\programacion-en-python-madiazec\\\\data.csv\",\"r\") as file:\n",
    "        data = file.readlines()\n",
    "\n",
    "    # Limpieza\n",
    "    data = [line.replace(\"\\n\",'') for line in data]\n",
    "    data = [line.split(\"\\t\") for line in data]\n",
    "    data = [line[4].split(\",\") for line in data]\n",
    "\n",
    "    return data"
   ]
  },
  {
   "cell_type": "code",
   "execution_count": 47,
   "metadata": {},
   "outputs": [
    {
     "data": {
      "text/plain": [
       "[('aaa', 1, 9),\n",
       " ('bbb', 1, 9),\n",
       " ('ccc', 1, 10),\n",
       " ('ddd', 0, 9),\n",
       " ('eee', 1, 7),\n",
       " ('fff', 0, 9),\n",
       " ('ggg', 3, 10),\n",
       " ('hhh', 0, 9),\n",
       " ('iii', 0, 9),\n",
       " ('jjj', 5, 17)]"
      ]
     },
     "execution_count": 47,
     "metadata": {},
     "output_type": "execute_result"
    }
   ],
   "source": [
    "# 6 \n",
    "data_dicc = organizar_dicc()\n",
    "lista_claves = [(y[:3],int(y[4:]))for x in data_dicc for y in x]\n",
    "dicc = sorted(set(elem[0]for elem in lista_claves))\n",
    "hallar_min_max(dicc, lista_claves, data_dicc,'min')"
   ]
  },
  {
   "cell_type": "markdown",
   "metadata": {},
   "source": [
    "# 7 y 8"
   ]
  },
  {
   "cell_type": "code",
   "execution_count": 48,
   "metadata": {},
   "outputs": [
    {
     "data": {
      "text/plain": [
       "[(0, ['C']),\n",
       " (1, ['E', 'B', 'E']),\n",
       " (2, ['A', 'E']),\n",
       " (3, ['A', 'B', 'D', 'E', 'E', 'D']),\n",
       " (4, ['E', 'B']),\n",
       " (5, ['B', 'C', 'D', 'D', 'E', 'E', 'E']),\n",
       " (6, ['C', 'E', 'A', 'B']),\n",
       " (7, ['A', 'C', 'E', 'D']),\n",
       " (8, ['E', 'D', 'E', 'A', 'B']),\n",
       " (9, ['A', 'B', 'E', 'A', 'A', 'C'])]"
      ]
     },
     "execution_count": 48,
     "metadata": {},
     "output_type": "execute_result"
    }
   ],
   "source": [
    "with open(\"data.csv\", \"r\") as file:\n",
    "        datos=file.readlines()\n",
    "datos=[line.replace(\"\\n\",\"\")for line in datos]\n",
    "datos=[line.split(\"\\t\")for line in datos]\n",
    "\n",
    "list_data=[(int(x[1]),x[0])for x in datos]\n",
    "\n",
    "numeros=sorted(set(x[0]for x in list_data))\n",
    "tup=[]\n",
    "lett=[]\n",
    "\n",
    "for i in numeros:\n",
    "    for j in list_data:\n",
    "        if (j[0] - i) == 0:\n",
    "            lett.append(j[1])\n",
    "    tup.append((i,lett))\n",
    "    lett=[]"
   ]
  },
  {
   "cell_type": "code",
   "execution_count": 50,
   "metadata": {},
   "outputs": [
    {
     "data": {
      "text/plain": [
       "[(0, ['C']),\n",
       " (1, ['B', 'E']),\n",
       " (2, ['A', 'E']),\n",
       " (3, ['A', 'B', 'D', 'E']),\n",
       " (4, ['B', 'E']),\n",
       " (5, ['B', 'C', 'D', 'E']),\n",
       " (6, ['A', 'B', 'C', 'E']),\n",
       " (7, ['A', 'C', 'D', 'E']),\n",
       " (8, ['A', 'B', 'D', 'E']),\n",
       " (9, ['A', 'B', 'C', 'E'])]"
      ]
     },
     "execution_count": 50,
     "metadata": {},
     "output_type": "execute_result"
    }
   ],
   "source": [
    "with open(\"data.csv\", \"r\") as file:\n",
    "        datos=file.readlines()\n",
    "datos=[line.replace(\"\\n\",\"\")for line in datos]\n",
    "datos=[line.split(\"\\t\")for line in datos]\n",
    "\n",
    "list_data=[(int(x[1]),x[0])for x in datos]\n",
    "\n",
    "numeros=sorted(set(x[0]for x in list_data))\n",
    "tup=[]\n",
    "lett=[]\n",
    "\n",
    "for i in numeros:\n",
    "    for j in list_data:\n",
    "        if (j[0] - i) == 0:\n",
    "            lett.append(j[1])\n",
    "    tup.append((i,sorted(set(lett))))\n",
    "    lett=[]\n",
    "tup"
   ]
  },
  {
   "cell_type": "markdown",
   "metadata": {},
   "source": [
    "# 9"
   ]
  },
  {
   "cell_type": "code",
   "execution_count": 51,
   "metadata": {},
   "outputs": [
    {
     "data": {
      "text/plain": [
       "{'aaa': 13,\n",
       " 'bbb': 16,\n",
       " 'ccc': 23,\n",
       " 'ddd': 23,\n",
       " 'eee': 15,\n",
       " 'fff': 20,\n",
       " 'ggg': 13,\n",
       " 'hhh': 16,\n",
       " 'iii': 18,\n",
       " 'jjj': 18}"
      ]
     },
     "execution_count": 51,
     "metadata": {},
     "output_type": "execute_result"
    }
   ],
   "source": [
    "# 9 \n",
    "data_dicc = organizar_dicc()\n",
    "lista_claves = [y[:3]for x in data_dicc for y in x]\n",
    "dicc = sorted(set(elem for elem in lista_claves))\n",
    "tup = [(x, lista_claves.count(x)) for x in dicc]\n",
    "dicc = dict(tup)\n",
    "dicc"
   ]
  },
  {
   "cell_type": "markdown",
   "metadata": {},
   "source": [
    "# 10"
   ]
  },
  {
   "cell_type": "code",
   "execution_count": 55,
   "metadata": {},
   "outputs": [
    {
     "data": {
      "text/plain": [
       "[('E', 3, 5),\n",
       " ('A', 3, 4),\n",
       " ('B', 4, 4),\n",
       " ('A', 2, 4),\n",
       " ('C', 4, 4),\n",
       " ('A', 2, 5),\n",
       " ('A', 3, 6),\n",
       " ('B', 2, 3),\n",
       " ('E', 4, 6),\n",
       " ('B', 4, 6),\n",
       " ('C', 4, 5),\n",
       " ('C', 4, 3),\n",
       " ('D', 4, 5),\n",
       " ('E', 2, 3),\n",
       " ('B', 2, 5),\n",
       " ('D', 2, 4),\n",
       " ('E', 3, 6),\n",
       " ('D', 2, 3),\n",
       " ('E', 4, 3),\n",
       " ('E', 2, 3),\n",
       " ('E', 2, 3),\n",
       " ('E', 3, 3),\n",
       " ('D', 3, 3),\n",
       " ('A', 3, 5),\n",
       " ('E', 2, 6),\n",
       " ('E', 3, 6),\n",
       " ('A', 3, 3),\n",
       " ('E', 3, 5),\n",
       " ('A', 2, 5),\n",
       " ('C', 4, 6),\n",
       " ('A', 2, 5),\n",
       " ('D', 2, 6),\n",
       " ('E', 2, 4),\n",
       " ('B', 3, 6),\n",
       " ('B', 3, 5),\n",
       " ('D', 2, 3),\n",
       " ('B', 2, 5),\n",
       " ('C', 4, 3),\n",
       " ('E', 2, 3),\n",
       " ('E', 3, 3)]"
      ]
     },
     "execution_count": 55,
     "metadata": {},
     "output_type": "execute_result"
    }
   ],
   "source": [
    "with open(\"data.csv\", \"r\")as file:\n",
    "    datos=file.readlines()\n",
    "datos=[line.replace(\"\\n\", \"\")for line in datos]\n",
    "datos=[line.split(\"\\t\")for line in datos]\n",
    "dist_col4=[len(line[3].split(\",\"))for line in datos]\n",
    "dist_col5=[len(line[4].split(\",\"))for line in datos]\n",
    "col1=[(line[0])for line in datos]\n",
    "rta=list(zip(col1,dist_col4,dist_col5))"
   ]
  },
  {
   "cell_type": "markdown",
   "metadata": {},
   "source": [
    "# 11"
   ]
  },
  {
   "cell_type": "code",
   "execution_count": 63,
   "metadata": {},
   "outputs": [
    {
     "data": {
      "text/plain": [
       "{'a': 122, 'b': 49, 'c': 91, 'd': 73, 'e': 86, 'f': 134, 'g': 35}"
      ]
     },
     "execution_count": 63,
     "metadata": {},
     "output_type": "execute_result"
    }
   ],
   "source": [
    "with open(\"C:\\\\Users\\\\nanad\\\\Documents\\\\GitHub\\\\programacion-en-python-madiazec\\\\data.csv\",\"r\") as file:\n",
    "    data = file.readlines()\n",
    "   \n",
    "data = [line.replace(\"\\n\",'') for line in data]\n",
    "data = [line.split(\"\\t\") for line in data]\n",
    "col4 = [line[3].split(\",\") for line in data]\n",
    "col2 = [int(line[1]) for line in data]\n",
    "\n",
    "datos_letras_numero=list(zip(col4,col2))\n",
    "lista_letra_num = []\n",
    "count = 0\n",
    "\n",
    "for elem in datos_letras_numero:\n",
    "    for i in elem[count]:\n",
    "        lista_letra_num.append((i,elem[1]))\n",
    "        count += 1\n",
    "    count = 0\n",
    "    \n",
    "dict2 = {}\n",
    "\n",
    "for llave,valor in lista_letra_num:\n",
    "    if llave in dict2.keys():\n",
    "        dict2[llave] += valor\n",
    "    else:\n",
    "        dict2[llave] = valor\n",
    "\n",
    "sorted_keys = sorted(dict2)\n",
    "dict2_sorted = {}\n",
    "\n",
    "for x in sorted_keys:\n",
    "    dict2_sorted[x] = dict2[x]\n",
    "dict2_sorted"
   ]
  },
  {
   "cell_type": "markdown",
   "metadata": {},
   "source": [
    "# 12"
   ]
  },
  {
   "cell_type": "code",
   "execution_count": 66,
   "metadata": {},
   "outputs": [
    {
     "data": {
      "text/plain": [
       "{'A': 177, 'B': 187, 'C': 114, 'D': 136, 'E': 324}"
      ]
     },
     "execution_count": 66,
     "metadata": {},
     "output_type": "execute_result"
    }
   ],
   "source": [
    "with open(\"C:\\\\Users\\\\nanad\\\\Documents\\\\GitHub\\\\programacion-en-python-madiazec\\\\data.csv\",\"r\") as file:\n",
    "    data = file.readlines()\n",
    "   \n",
    "data = [line.replace(\"\\n\",'') for line in data]\n",
    "data = [line.split(\"\\t\") for line in data]\n",
    "col5 = [line[4].split(\",\") for line in data]\n",
    "col1 = [line[0] for line in data]\n",
    "\n",
    "union_col = list(zip(col1,col5))\n",
    "dict_keys = sorted(set(col1))\n",
    "dict = {}\n",
    "\n",
    "for i in dict_keys:\n",
    "    dict[i] = 0\n",
    "\n",
    "for i, j in union_col:\n",
    "    for k in j:\n",
    "        dict[i] += int(k[4:])\n",
    "\n",
    "dict"
   ]
  },
  {
   "cell_type": "code",
   "execution_count": null,
   "metadata": {},
   "outputs": [],
   "source": []
  }
 ],
 "metadata": {
  "kernelspec": {
   "display_name": "Python 3.10.7 64-bit (microsoft store)",
   "language": "python",
   "name": "python3"
  },
  "language_info": {
   "codemirror_mode": {
    "name": "ipython",
    "version": 3
   },
   "file_extension": ".py",
   "mimetype": "text/x-python",
   "name": "python",
   "nbconvert_exporter": "python",
   "pygments_lexer": "ipython3",
   "version": "3.10.7"
  },
  "orig_nbformat": 4,
  "vscode": {
   "interpreter": {
    "hash": "38d818ff7c33ea23b57eb3e86ad9be6bdb2dae7c6185b936c0cbc4382009620f"
   }
  }
 },
 "nbformat": 4,
 "nbformat_minor": 2
}
